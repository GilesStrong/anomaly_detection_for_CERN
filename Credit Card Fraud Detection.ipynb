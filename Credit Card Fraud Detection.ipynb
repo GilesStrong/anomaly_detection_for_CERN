{
 "cells": [
  {
   "cell_type": "markdown",
   "metadata": {},
   "source": [
    "# Anomaly Detection using Deep Learning\n",
    "\n",
    "## Demo\n",
    "\n",
    "We'll train a neural network called an Autoencoder on a credit card fraud dataset from [Kaggle](https://www.kaggle.com/dalpozz/creditcardfraud) without labels. It will learn how to reconstruct the input data after time. Then, we'll use its learned representations to turn to perform binary classification.\n",
    "\n",
    "## What's an autoencoder?\n",
    "\n",
    "![alt text](https://vanishingcodes.files.wordpress.com/2017/06/stackedae.png \"Logo Title Text 1\")\n",
    "\n",
    "Auto-encoder is a type of neural network that approximates the function: \n",
    "\n",
    "f(x) = x. \n",
    "\n",
    "Basically, given an input x, network will learn to output f(x) that is as close as to x. \n",
    "\n",
    "The error between output and x is commonly measured using root mean square error (RMSE)\n",
    "\n",
    "mean((f(x) – x) ^ 2) \n",
    "\n",
    "which is the loss function we try to minimise in our network.\n",
    "\n",
    "Autoencoders follows a typical feed-forward neural networks architecture except that the output layer has exactly same number of neurons as input layer. And it uses the input data itself as its target. Therefore it works in a way of unsupervised learning – learn without predicting an actual label\n",
    "\n",
    "The ‘encoder’ – job is to ’embed’ the input data into a lower dimensional array. \n",
    "The ‘decoder’ - job is to try to decode the embedding array into the original one.\n",
    "\n",
    "We can have either one hidden layer, or in the case below, have multiple layers depending on the complexity of our features.\n",
    "\n",
    "## What are other Anomaly Detection methods?\n",
    "\n",
    "PCA - Principal Component analysis. This is actually a dimensionality reduction technique but can be used to detect anomalies since when visualized, the learned 'principal components' will show outliers.\n",
    "\n",
    "![alt text](https://upload.wikimedia.org/wikipedia/commons/6/69/Principal_Component_Analysis_of_the_Italian_population.png \"Logo Title Text 1\")\n",
    "\n",
    "K means - This is simple arithmetic, a very popular algorithm. Gives great results for small datasets, utility declines as your data grows >1000 data points.\n",
    "\n",
    "![alt text](https://upload.wikimedia.org/wikipedia/commons/thumb/0/09/ClusterAnalysis_Mouse.svg/450px-ClusterAnalysis_Mouse.svg.png \"Logo Title Text 1\")\n",
    "\n",
    "![alt text](https://blog.keras.io/img/ae/autoencoder_schema.jpg \"Logo Title Text 1\")\n",
    "\n",
    "\n",
    "![alt text](https://cdn-images-1.medium.com/max/1600/1*8ixTe1VHLsmKB3AquWdxpQ.png \"Logo Title Text 1\")\n",
    "\n",
    "\n",
    "## What are the steps\n",
    "\n",
    "1. First part of the forward pass - encode the data points into an encoded representation\n",
    "2. Second part of the forward pass - decode the data points \n",
    "3. Measure the Root mean squared error. Minimize it using backpropagation. \n",
    "4. We'll define a threshold value. If the RMSE is above that threshold value then, it's considered an anomaly. We can Rank the RSME values and the top .1 can be considered anomalies.\n",
    "\n",
    "The reason the top X datapoints with the highest RMSE error are considered anomalies is because the RMSE will measure the difference between the learned patterns and the anomaly value. Since the majority of the datapoints share similar patterns, the anomalies will stick out. They'll have the highest difference. \n",
    "\n",
    "So we're basically creating a generalized latent representation of all the datapoints (both fraud and valid) and since the valid datapoints far outweight the fraud datapoints, this learned representation will be one for valid datapoints. Then when the difference between the learning and the fraud datapoint is measured, it will be very high. Anomaly spotted! \n",
    "\n",
    "\n",
    "## How can this be applied at CERN?\n",
    "\n",
    "Why use deep learning?\n",
    "-Particle data is very high dimensional\n",
    "-It works well on big datasets and big computing power\n",
    "-No need to perform feature engineering, deep nets will learn the most relevant features.\n",
    "\n",
    "-Classification for known particles\n",
    "-Generative models for simulations (Generative adversarial networks, variational autoencoders)\n",
    "-Clustering (What we're talking about)\n",
    "\n",
    "![alt text](https://home.cern/sites/home.web.cern.ch/files/image/featured/2014/01/higgs-simulation-3.jpg \"Logo Title Text 1\")\n"
   ]
  },
  {
   "cell_type": "markdown",
   "metadata": {
    "collapsed": true
   },
   "source": [
    "## Load libraries "
   ]
  },
  {
   "cell_type": "code",
   "execution_count": 3,
   "metadata": {
    "collapsed": true
   },
   "outputs": [],
   "source": [
    "import pandas as pd #data manipulation\n",
    "import numpy as np #matrix math\n",
    "import tensorflow as tf #machine learning\n",
    "import os #saving files\n",
    "from datetime import datetime #logging\n",
    "from sklearn.metrics import roc_auc_score as auc  #measuring accuracy\n",
    "import seaborn as sns #plotting"
   ]
  },
  {
   "cell_type": "code",
   "execution_count": 4,
   "metadata": {
    "collapsed": true
   },
   "outputs": [],
   "source": [
    "import matplotlib.pyplot as plt #plotting\n",
    "import matplotlib.gridspec as gridspec\n",
    "%matplotlib inline"
   ]
  },
  {
   "cell_type": "markdown",
   "metadata": {},
   "source": [
    "## Data Exploration"
   ]
  },
  {
   "cell_type": "code",
   "execution_count": 58,
   "metadata": {
    "collapsed": true
   },
   "outputs": [],
   "source": [
    "data_dir = \"C:\\\\Users\\\\weimin\\\\Desktop\\\\Fraud\"\n",
    "df = pd.read_csv(os.path.join(data_dir, 'creditcard.csv'))"
   ]
  },
  {
   "cell_type": "code",
   "execution_count": 59,
   "metadata": {
    "collapsed": false
   },
   "outputs": [
    {
     "data": {
      "text/plain": [
       "(284807, 31)"
      ]
     },
     "execution_count": 59,
     "metadata": {},
     "output_type": "execute_result"
    }
   ],
   "source": [
    "df.shape"
   ]
  },
  {
   "cell_type": "code",
   "execution_count": 60,
   "metadata": {
    "collapsed": false
   },
   "outputs": [
    {
     "name": "stdout",
     "output_type": "stream",
     "text": [
      "Total time spanning: 2.0 days\n",
      "0.173 % of all transactions are fraud. \n"
     ]
    }
   ],
   "source": [
    "print(\"Total time spanning: {:.1f} days\".format(df['Time'].max() / (3600 * 24.0)))\n",
    "print(\"{:.3f} % of all transactions are fraud. \".format(np.sum(df['Class']) / df.shape[0] * 100))"
   ]
  },
  {
   "cell_type": "code",
   "execution_count": 3,
   "metadata": {
    "collapsed": false
   },
   "outputs": [
    {
     "data": {
      "text/html": [
       "<div>\n",
       "<style>\n",
       "    .dataframe thead tr:only-child th {\n",
       "        text-align: right;\n",
       "    }\n",
       "\n",
       "    .dataframe thead th {\n",
       "        text-align: left;\n",
       "    }\n",
       "\n",
       "    .dataframe tbody tr th {\n",
       "        vertical-align: top;\n",
       "    }\n",
       "</style>\n",
       "<table border=\"1\" class=\"dataframe\">\n",
       "  <thead>\n",
       "    <tr style=\"text-align: right;\">\n",
       "      <th></th>\n",
       "      <th>Time</th>\n",
       "      <th>V1</th>\n",
       "      <th>V2</th>\n",
       "      <th>V3</th>\n",
       "      <th>V4</th>\n",
       "      <th>V5</th>\n",
       "      <th>V6</th>\n",
       "      <th>V7</th>\n",
       "      <th>V8</th>\n",
       "      <th>V9</th>\n",
       "      <th>...</th>\n",
       "      <th>V21</th>\n",
       "      <th>V22</th>\n",
       "      <th>V23</th>\n",
       "      <th>V24</th>\n",
       "      <th>V25</th>\n",
       "      <th>V26</th>\n",
       "      <th>V27</th>\n",
       "      <th>V28</th>\n",
       "      <th>Amount</th>\n",
       "      <th>Class</th>\n",
       "    </tr>\n",
       "  </thead>\n",
       "  <tbody>\n",
       "    <tr>\n",
       "      <th>0</th>\n",
       "      <td>0.0</td>\n",
       "      <td>-1.359807</td>\n",
       "      <td>-0.072781</td>\n",
       "      <td>2.536347</td>\n",
       "      <td>1.378155</td>\n",
       "      <td>-0.338321</td>\n",
       "      <td>0.462388</td>\n",
       "      <td>0.239599</td>\n",
       "      <td>0.098698</td>\n",
       "      <td>0.363787</td>\n",
       "      <td>...</td>\n",
       "      <td>-0.018307</td>\n",
       "      <td>0.277838</td>\n",
       "      <td>-0.110474</td>\n",
       "      <td>0.066928</td>\n",
       "      <td>0.128539</td>\n",
       "      <td>-0.189115</td>\n",
       "      <td>0.133558</td>\n",
       "      <td>-0.021053</td>\n",
       "      <td>149.62</td>\n",
       "      <td>0</td>\n",
       "    </tr>\n",
       "    <tr>\n",
       "      <th>1</th>\n",
       "      <td>0.0</td>\n",
       "      <td>1.191857</td>\n",
       "      <td>0.266151</td>\n",
       "      <td>0.166480</td>\n",
       "      <td>0.448154</td>\n",
       "      <td>0.060018</td>\n",
       "      <td>-0.082361</td>\n",
       "      <td>-0.078803</td>\n",
       "      <td>0.085102</td>\n",
       "      <td>-0.255425</td>\n",
       "      <td>...</td>\n",
       "      <td>-0.225775</td>\n",
       "      <td>-0.638672</td>\n",
       "      <td>0.101288</td>\n",
       "      <td>-0.339846</td>\n",
       "      <td>0.167170</td>\n",
       "      <td>0.125895</td>\n",
       "      <td>-0.008983</td>\n",
       "      <td>0.014724</td>\n",
       "      <td>2.69</td>\n",
       "      <td>0</td>\n",
       "    </tr>\n",
       "    <tr>\n",
       "      <th>2</th>\n",
       "      <td>1.0</td>\n",
       "      <td>-1.358354</td>\n",
       "      <td>-1.340163</td>\n",
       "      <td>1.773209</td>\n",
       "      <td>0.379780</td>\n",
       "      <td>-0.503198</td>\n",
       "      <td>1.800499</td>\n",
       "      <td>0.791461</td>\n",
       "      <td>0.247676</td>\n",
       "      <td>-1.514654</td>\n",
       "      <td>...</td>\n",
       "      <td>0.247998</td>\n",
       "      <td>0.771679</td>\n",
       "      <td>0.909412</td>\n",
       "      <td>-0.689281</td>\n",
       "      <td>-0.327642</td>\n",
       "      <td>-0.139097</td>\n",
       "      <td>-0.055353</td>\n",
       "      <td>-0.059752</td>\n",
       "      <td>378.66</td>\n",
       "      <td>0</td>\n",
       "    </tr>\n",
       "    <tr>\n",
       "      <th>3</th>\n",
       "      <td>1.0</td>\n",
       "      <td>-0.966272</td>\n",
       "      <td>-0.185226</td>\n",
       "      <td>1.792993</td>\n",
       "      <td>-0.863291</td>\n",
       "      <td>-0.010309</td>\n",
       "      <td>1.247203</td>\n",
       "      <td>0.237609</td>\n",
       "      <td>0.377436</td>\n",
       "      <td>-1.387024</td>\n",
       "      <td>...</td>\n",
       "      <td>-0.108300</td>\n",
       "      <td>0.005274</td>\n",
       "      <td>-0.190321</td>\n",
       "      <td>-1.175575</td>\n",
       "      <td>0.647376</td>\n",
       "      <td>-0.221929</td>\n",
       "      <td>0.062723</td>\n",
       "      <td>0.061458</td>\n",
       "      <td>123.50</td>\n",
       "      <td>0</td>\n",
       "    </tr>\n",
       "    <tr>\n",
       "      <th>4</th>\n",
       "      <td>2.0</td>\n",
       "      <td>-1.158233</td>\n",
       "      <td>0.877737</td>\n",
       "      <td>1.548718</td>\n",
       "      <td>0.403034</td>\n",
       "      <td>-0.407193</td>\n",
       "      <td>0.095921</td>\n",
       "      <td>0.592941</td>\n",
       "      <td>-0.270533</td>\n",
       "      <td>0.817739</td>\n",
       "      <td>...</td>\n",
       "      <td>-0.009431</td>\n",
       "      <td>0.798278</td>\n",
       "      <td>-0.137458</td>\n",
       "      <td>0.141267</td>\n",
       "      <td>-0.206010</td>\n",
       "      <td>0.502292</td>\n",
       "      <td>0.219422</td>\n",
       "      <td>0.215153</td>\n",
       "      <td>69.99</td>\n",
       "      <td>0</td>\n",
       "    </tr>\n",
       "  </tbody>\n",
       "</table>\n",
       "<p>5 rows × 31 columns</p>\n",
       "</div>"
      ],
      "text/plain": [
       "   Time        V1        V2        V3        V4        V5        V6        V7  \\\n",
       "0   0.0 -1.359807 -0.072781  2.536347  1.378155 -0.338321  0.462388  0.239599   \n",
       "1   0.0  1.191857  0.266151  0.166480  0.448154  0.060018 -0.082361 -0.078803   \n",
       "2   1.0 -1.358354 -1.340163  1.773209  0.379780 -0.503198  1.800499  0.791461   \n",
       "3   1.0 -0.966272 -0.185226  1.792993 -0.863291 -0.010309  1.247203  0.237609   \n",
       "4   2.0 -1.158233  0.877737  1.548718  0.403034 -0.407193  0.095921  0.592941   \n",
       "\n",
       "         V8        V9  ...         V21       V22       V23       V24  \\\n",
       "0  0.098698  0.363787  ...   -0.018307  0.277838 -0.110474  0.066928   \n",
       "1  0.085102 -0.255425  ...   -0.225775 -0.638672  0.101288 -0.339846   \n",
       "2  0.247676 -1.514654  ...    0.247998  0.771679  0.909412 -0.689281   \n",
       "3  0.377436 -1.387024  ...   -0.108300  0.005274 -0.190321 -1.175575   \n",
       "4 -0.270533  0.817739  ...   -0.009431  0.798278 -0.137458  0.141267   \n",
       "\n",
       "        V25       V26       V27       V28  Amount  Class  \n",
       "0  0.128539 -0.189115  0.133558 -0.021053  149.62      0  \n",
       "1  0.167170  0.125895 -0.008983  0.014724    2.69      0  \n",
       "2 -0.327642 -0.139097 -0.055353 -0.059752  378.66      0  \n",
       "3  0.647376 -0.221929  0.062723  0.061458  123.50      0  \n",
       "4 -0.206010  0.502292  0.219422  0.215153   69.99      0  \n",
       "\n",
       "[5 rows x 31 columns]"
      ]
     },
     "execution_count": 3,
     "metadata": {},
     "output_type": "execute_result"
    }
   ],
   "source": [
    "df.head()"
   ]
  },
  {
   "cell_type": "code",
   "execution_count": 63,
   "metadata": {
    "collapsed": false
   },
   "outputs": [
    {
     "data": {
      "text/plain": [
       "Index(['Time', 'V1', 'V2', 'V3', 'V4', 'V5', 'V6', 'V7', 'V8', 'V9', 'V10',\n",
       "       'V11', 'V12', 'V13', 'V14', 'V15', 'V16', 'V17', 'V18', 'V19', 'V20',\n",
       "       'V21', 'V22', 'V23', 'V24', 'V25', 'V26', 'V27', 'V28', 'Amount',\n",
       "       'Class'],\n",
       "      dtype='object')"
      ]
     },
     "execution_count": 63,
     "metadata": {},
     "output_type": "execute_result"
    }
   ],
   "source": [
    "df.columns"
   ]
  },
  {
   "cell_type": "code",
   "execution_count": 64,
   "metadata": {
    "collapsed": false
   },
   "outputs": [
    {
     "data": {
      "text/plain": [
       "Time      float64\n",
       "V1        float64\n",
       "V2        float64\n",
       "V3        float64\n",
       "V4        float64\n",
       "V5        float64\n",
       "V6        float64\n",
       "V7        float64\n",
       "V8        float64\n",
       "V9        float64\n",
       "V10       float64\n",
       "V11       float64\n",
       "V12       float64\n",
       "V13       float64\n",
       "V14       float64\n",
       "V15       float64\n",
       "V16       float64\n",
       "V17       float64\n",
       "V18       float64\n",
       "V19       float64\n",
       "V20       float64\n",
       "V21       float64\n",
       "V22       float64\n",
       "V23       float64\n",
       "V24       float64\n",
       "V25       float64\n",
       "V26       float64\n",
       "V27       float64\n",
       "V28       float64\n",
       "Amount    float64\n",
       "Class       int64\n",
       "dtype: object"
      ]
     },
     "execution_count": 64,
     "metadata": {},
     "output_type": "execute_result"
    }
   ],
   "source": [
    "df.dtypes"
   ]
  },
  {
   "cell_type": "code",
   "execution_count": 65,
   "metadata": {
    "collapsed": false
   },
   "outputs": [
    {
     "data": {
      "image/png": "[encoded data removed]",
      "text/plain": [
       "<matplotlib.figure.Figure at 0x27965160278>"
      ]
     },
     "metadata": {},
     "output_type": "display_data"
    }
   ],
   "source": [
    "plt.figure(figsize=(12,5*4))\n",
    "gs = gridspec.GridSpec(5, 1)\n",
    "for i, cn in enumerate(df.columns[:5]):\n",
    "    ax = plt.subplot(gs[i])\n",
    "    sns.distplot(df[cn][df.Class == 1], bins=50)\n",
    "    sns.distplot(df[cn][df.Class == 0], bins=50)\n",
    "    ax.set_xlabel('')\n",
    "    ax.set_title('histogram of feature: ' + str(cn))\n",
    "plt.show()"
   ]
  },
  {
   "cell_type": "markdown",
   "metadata": {},
   "source": [
    "## Train and test split on time series, using first 75% as training/val, and last 25% as test"
   ]
  },
  {
   "cell_type": "code",
   "execution_count": 9,
   "metadata": {
    "collapsed": true
   },
   "outputs": [],
   "source": [
    "TEST_RATIO = 0.25\n",
    "df.sort_values('Time', inplace = True)\n",
    "TRA_INDEX = int((1-TEST_RATIO) * df.shape[0])\n",
    "train_x = df.iloc[:TRA_INDEX, 1:-2].values\n",
    "train_y = df.iloc[:TRA_INDEX, -1].values\n",
    "\n",
    "test_x = df.iloc[TRA_INDEX:, 1:-2].values\n",
    "test_y = df.iloc[TRA_INDEX:, -1].values"
   ]
  },
  {
   "cell_type": "code",
   "execution_count": 6,
   "metadata": {
    "collapsed": false
   },
   "outputs": [
    {
     "name": "stdout",
     "output_type": "stream",
     "text": [
      "Total train examples: 213605, total fraud cases: 398, equal to 0.00186 of total cases. \n"
     ]
    }
   ],
   "source": [
    "print(\"Total train examples: {}, total fraud cases: {}, equal to {:.5f} of total cases. \".format(train_x.shape[0], np.sum(train_y), np.sum(train_y)/train_x.shape[0]))"
   ]
  },
  {
   "cell_type": "code",
   "execution_count": 7,
   "metadata": {
    "collapsed": false
   },
   "outputs": [
    {
     "name": "stdout",
     "output_type": "stream",
     "text": [
      "Total test examples: 71202, total fraud cases: 94, equal to 0.00132 of total cases. \n"
     ]
    }
   ],
   "source": [
    "print(\"Total test examples: {}, total fraud cases: {}, equal to {:.5f} of total cases. \".format(test_x.shape[0], np.sum(test_y), np.sum(test_y)/test_y.shape[0]))"
   ]
  },
  {
   "cell_type": "markdown",
   "metadata": {},
   "source": [
    "2 types of standardization z-score and min-max scaling.\n",
    "\n",
    "z-score will normalize each column into having mean of zero and standardization of ones, \n",
    "which will be good choice if we are using some sort of output functions like tanh, \n",
    "that outputs values on both sides of zero. \n",
    "Besides, this will leave values that are too extreme to still keep some extremeness\n",
    "left after normalization (e.g. to have more than 2 standard deviations away).\n",
    "This might be useful to detect outliers in this case.\n",
    "\n",
    "The second min-max approach will ensure all values to be within 0 ~ 1. \n",
    "All positive. This is the default approach if we are using sigmoid as \n",
    "our output activation.\n",
    "\n",
    "Just to recap the differences between sigmoid and tanh below \n",
    "(sigmoid will squash the values into range between (0, 1); \n",
    " whereas tanh, or hyperbolic tangent, squash them into (-1, 1)):\n",
    "    \n",
    "![alt text](https://vanishingcodes.files.wordpress.com/2017/06/tanh-and-sigmoid.png \"Logo Title Text 1\")\n",
    "   \n",
    "\n",
    "    \n",
    "Based on experiments, I found tanh to perform better than sigmoid, \n",
    "when using together with z-score normalization.\n",
    "Therefore, I chose tanh followed by z-score. "
   ]
  },
  {
   "cell_type": "markdown",
   "metadata": {},
   "source": [
    "## Feature Normalization - min max score (used for sigmoid activation)"
   ]
  },
  {
   "cell_type": "code",
   "execution_count": 10,
   "metadata": {
    "collapsed": true
   },
   "outputs": [],
   "source": [
    "'''cols_max = []\n",
    "cols_min = []\n",
    "for c in range(train_x.shape[1]):\n",
    "    cols_max.append(train_x[:,c].max())\n",
    "    cols_min.append(train_x[:,c].min())\n",
    "    train_x[:, c] = (train_x[:, c] - cols_min[-1]) / (cols_max[-1] - cols_min[-1])\n",
    "    test_x[:, c] =  (test_x[:, c] - cols_min[-1]) / (cols_max[-1] - cols_min[-1])'''"
   ]
  },
  {
   "cell_type": "markdown",
   "metadata": {},
   "source": [
    "## Feature Normalization 2 - z score (for tanh activation)"
   ]
  },
  {
   "cell_type": "code",
   "execution_count": 10,
   "metadata": {
    "collapsed": true
   },
   "outputs": [],
   "source": [
    "cols_mean = []\n",
    "cols_std = []\n",
    "for c in range(train_x.shape[1]):\n",
    "    cols_mean.append(train_x[:,c].mean())\n",
    "    cols_std.append(train_x[:,c].std())\n",
    "    train_x[:, c] = (train_x[:, c] - cols_mean[-1]) / cols_std[-1]\n",
    "    test_x[:, c] =  (test_x[:, c] - cols_mean[-1]) / cols_std[-1]"
   ]
  },
  {
   "cell_type": "markdown",
   "metadata": {
    "collapsed": true
   },
   "source": [
    "## Modelling and results\n"
   ]
  },
  {
   "cell_type": "markdown",
   "metadata": {},
   "source": [
    "## 1. Auto-encoder as unsupervised learning"
   ]
  },
  {
   "cell_type": "markdown",
   "metadata": {},
   "source": [
    "### Parameters"
   ]
  },
  {
   "cell_type": "code",
   "execution_count": 11,
   "metadata": {
    "collapsed": true
   },
   "outputs": [],
   "source": [
    "# Parameters\n",
    "learning_rate = 0.01 #how fast to learn? too low, too long to converge, too high overshoot minimum\n",
    "training_epochs = 10\n",
    "batch_size = 256\n",
    "display_step = 1\n",
    "\n",
    "# Network Parameters (neurons )\n",
    "n_hidden_1 = 15 # 1st layer num features\n",
    "#n_hidden_2 = 15 # 2nd layer num features\n",
    "n_input = train_x.shape[1] # MNIST data input (img shape: 28*28)"
   ]
  },
  {
   "cell_type": "markdown",
   "metadata": {},
   "source": [
    "### Train and val the model - (1 hidden layer turned out to be enough)"
   ]
  },
  {
   "cell_type": "code",
   "execution_count": 12,
   "metadata": {
    "collapsed": false
   },
   "outputs": [
    {
     "name": "stdout",
     "output_type": "stream",
     "text": [
      "Epoch: 0001 cost= 0.411727011 Train auc= 0.956021 Time elapsed= 0:00:01.806808\n",
      "Epoch: 0002 cost= 0.846064389 Train auc= 0.953359 Time elapsed= 0:00:03.255659\n",
      "Epoch: 0003 cost= 0.354484618 Train auc= 0.953008 Time elapsed= 0:00:04.644354\n",
      "Epoch: 0004 cost= 0.521521986 Train auc= 0.953450 Time elapsed= 0:00:06.098230\n",
      "Epoch: 0005 cost= 0.517319083 Train auc= 0.953781 Time elapsed= 0:00:07.534039\n",
      "Epoch: 0006 cost= 0.679800570 Train auc= 0.954154 Time elapsed= 0:00:08.928748\n",
      "Epoch: 0007 cost= 0.325362355 Train auc= 0.953365 Time elapsed= 0:00:10.329510\n",
      "Epoch: 0008 cost= 0.411871493 Train auc= 0.953527 Time elapsed= 0:00:11.756268\n",
      "Epoch: 0009 cost= 0.280223519 Train auc= 0.954088 Time elapsed= 0:00:13.173037\n",
      "Epoch: 0010 cost= 1.056191683 Train auc= 0.953535 Time elapsed= 0:00:14.504578\n",
      "Optimization Finished!\n",
      "Model saved in file: C:\\Users\\weimin\\Desktop\\Fraud\\temp_saved_model_1layer.ckpt\n"
     ]
    }
   ],
   "source": [
    "X = tf.placeholder(\"float\", [None, n_input])\n",
    "\n",
    "weights = {\n",
    "    'encoder_h1': tf.Variable(tf.random_normal([n_input, n_hidden_1])),\n",
    "    #'encoder_h2': tf.Variable(tf.random_normal([n_hidden_1, n_hidden_2])),\n",
    "    'decoder_h1': tf.Variable(tf.random_normal([n_hidden_1, n_input])),\n",
    "    #'decoder_h2': tf.Variable(tf.random_normal([n_hidden_1, n_input])),\n",
    "}\n",
    "biases = {\n",
    "    'encoder_b1': tf.Variable(tf.random_normal([n_hidden_1])),\n",
    "    #'encoder_b2': tf.Variable(tf.random_normal([n_hidden_2])),\n",
    "    'decoder_b1': tf.Variable(tf.random_normal([n_input])),\n",
    "    #'decoder_b2': tf.Variable(tf.random_normal([n_input])),\n",
    "}\n",
    "\n",
    "\n",
    "# Building the encoder\n",
    "def encoder(x):\n",
    "    #input times weight + bias. Activate! It rhymes.\n",
    "    # Encoder Hidden layer with sigmoid activation #1\n",
    "    layer_1 = tf.nn.tanh(tf.add(tf.matmul(x, weights['encoder_h1']),\n",
    "                                   biases['encoder_b1']))\n",
    "    return layer_1\n",
    "\n",
    "\n",
    "# Building the decoder\n",
    "def decoder(x):\n",
    "    # Encoder Hidden layer with sigmoid activation #1\n",
    "    layer_1 = tf.nn.tanh(tf.add(tf.matmul(x, weights['decoder_h1']),\n",
    "                                   biases['decoder_b1']))\n",
    "    return layer_1\n",
    "\n",
    "# Construct model\n",
    "#feed the input data into the encoder.\n",
    "encoder_op = encoder(X)\n",
    "#and learned representation to the decoder\n",
    "decoder_op = decoder(encoder_op)\n",
    "\n",
    "# Prediction\n",
    "y_pred = decoder_op\n",
    "# Targets (Labels) are the input data.\n",
    "y_true = X\n",
    "\n",
    "# Define batch mse\n",
    "batch_mse = tf.reduce_mean(tf.pow(y_true - y_pred, 2), 1)\n",
    "\n",
    "# Define loss and optimizer, minimize the squared error\n",
    "cost = tf.reduce_mean(tf.pow(y_true - y_pred, 2))\n",
    "#this is gradient descent. Stochastic gradient descent. Backpropagate to update weights!\n",
    "optimizer = tf.train.RMSPropOptimizer(learning_rate).minimize(cost)\n",
    "\n",
    "# TRAIN StARTS\n",
    "save_model = os.path.join(data_dir, 'temp_saved_model_1layer.ckpt')\n",
    "saver = tf.train.Saver()\n",
    "\n",
    "# Initializing the variables\n",
    "init = tf.global_variables_initializer()\n",
    "\n",
    "with tf.Session() as sess:\n",
    "    now = datetime.now()\n",
    "    sess.run(init)\n",
    "    total_batch = int(train_x.shape[0]/batch_size)\n",
    "    # Training cycle\n",
    "    for epoch in range(training_epochs):\n",
    "        # Loop over all batches\n",
    "        for i in range(total_batch):\n",
    "            #pick a random datapoint from the batch\n",
    "            batch_idx = np.random.choice(train_x.shape[0], batch_size)\n",
    "            batch_xs = train_x[batch_idx]\n",
    "            # Run optimization op (backprop) and cost op (to get loss value)\n",
    "            #recursive weight updating via gradient computation. \n",
    "            _, c = sess.run([optimizer, cost], feed_dict={X: batch_xs})\n",
    "            \n",
    "        # Display logs per epoch step\n",
    "        if epoch % display_step == 0:\n",
    "            train_batch_mse = sess.run(batch_mse, feed_dict={X: train_x})\n",
    "            print(\"Epoch:\", '%04d' % (epoch+1),\n",
    "                  \"cost=\", \"{:.9f}\".format(c), \n",
    "                  \"Train auc=\", \"{:.6f}\".format(auc(train_y, train_batch_mse)), \n",
    "                  \"Time elapsed=\", \"{}\".format(datetime.now() - now))\n",
    "\n",
    "    print(\"Optimization Finished!\")\n",
    "    \n",
    "    save_path = saver.save(sess, save_model)\n",
    "    print(\"Model saved in file: %s\" % save_path)\n",
    "    "
   ]
  },
  {
   "cell_type": "markdown",
   "metadata": {
    "collapsed": true
   },
   "source": [
    "### Test model - on later 25% test data"
   ]
  },
  {
   "cell_type": "code",
   "execution_count": 13,
   "metadata": {
    "collapsed": false
   },
   "outputs": [
    {
     "name": "stdout",
     "output_type": "stream",
     "text": [
      "INFO:tensorflow:Restoring parameters from C:\\Users\\weimin\\Desktop\\Fraud\\temp_saved_model_1layer.ckpt\n",
      "Test auc score: 0.943175\n"
     ]
    }
   ],
   "source": [
    "save_model = os.path.join(data_dir, 'temp_saved_model_1layer.ckpt')\n",
    "saver = tf.train.Saver()\n",
    "\n",
    "# Initializing the variables\n",
    "init = tf.global_variables_initializer()\n",
    "\n",
    "with tf.Session() as sess:\n",
    "    now = datetime.now()\n",
    "    \n",
    "    saver.restore(sess, save_model)\n",
    "    \n",
    "    test_batch_mse = sess.run(batch_mse, feed_dict={X: test_x})\n",
    "    \n",
    "    print(\"Test auc score: {:.6f}\".format(auc(test_y, test_batch_mse)))\n",
    "    "
   ]
  },
  {
   "cell_type": "markdown",
   "metadata": {},
   "source": [
    "## Visualize the prediction"
   ]
  },
  {
   "cell_type": "markdown",
   "metadata": {},
   "source": [
    "### 1. Show distribution of all mse (fraud scores if you want to call it)"
   ]
  },
  {
   "cell_type": "code",
   "execution_count": 24,
   "metadata": {
    "collapsed": false
   },
   "outputs": [
    {
     "data": {
      "image/png": "[encoded data removed]",
      "text/plain": [
       "<matplotlib.figure.Figure at 0x248f55a9e48>"
      ]
     },
     "metadata": {},
     "output_type": "display_data"
    }
   ],
   "source": [
    "plt.hist(test_batch_mse, bins = 100)\n",
    "plt.show()"
   ]
  },
  {
   "cell_type": "markdown",
   "metadata": {},
   "source": [
    "### Zoom into (0, 20) range"
   ]
  },
  {
   "cell_type": "code",
   "execution_count": 26,
   "metadata": {
    "collapsed": false
   },
   "outputs": [
    {
     "data": {
      "image/png": "[encoded data removed]",
      "text/plain": [
       "<matplotlib.figure.Figure at 0x2488152c8d0>"
      ]
     },
     "metadata": {},
     "output_type": "display_data"
    }
   ],
   "source": [
    "plt.hist(test_batch_mse[test_batch_mse < 20], bins = 100)\n",
    "plt.show()"
   ]
  },
  {
   "cell_type": "markdown",
   "metadata": {},
   "source": [
    "### 2. Display only fraud cases"
   ]
  },
  {
   "cell_type": "code",
   "execution_count": 35,
   "metadata": {
    "collapsed": false
   },
   "outputs": [
    {
     "data": {
      "image/png": "[encoded data removed]",
      "text/plain": [
       "<matplotlib.figure.Figure at 0x248815d5b70>"
      ]
     },
     "metadata": {},
     "output_type": "display_data"
    }
   ],
   "source": [
    "plt.hist(test_batch_mse[test_y == 1.0], bins = 100)\n",
    "plt.show()"
   ]
  },
  {
   "cell_type": "code",
   "execution_count": 34,
   "metadata": {
    "collapsed": false
   },
   "outputs": [
    {
     "name": "stdout",
     "output_type": "stream",
     "text": [
      " All scores above treshold: 41, all pos above threshold: 561, and percentage of accuracy above treshold are: 0.07308377896613191\n"
     ]
    }
   ],
   "source": [
    "THRE_TEST = 7\n",
    "print(\" All scores above treshold: {}, all pos above threshold: {}, and percentage of accuracy above treshold are: {}\".format( \\\n",
    "        np.sum(test_y[test_batch_mse > THRE_TEST]), np.sum(test_batch_mse > THRE_TEST), np.sum(test_y[test_batch_mse > THRE_TEST]) / np.sum(test_batch_mse > THRE_TEST)))\n",
    "      "
   ]
  },
  {
   "cell_type": "markdown",
   "metadata": {},
   "source": [
    "## 2. Build a binary classifier model that output probabilities of being fraud, using previous auto-encoder embedding layer as model input for all data"
   ]
  },
  {
   "cell_type": "markdown",
   "metadata": {},
   "source": [
    "### 1) Get auto-encoder embedding (encoder_op) for both train and test data"
   ]
  },
  {
   "cell_type": "code",
   "execution_count": 16,
   "metadata": {
    "collapsed": false
   },
   "outputs": [
    {
     "name": "stdout",
     "output_type": "stream",
     "text": [
      "INFO:tensorflow:Restoring parameters from C:\\Users\\weimin\\Desktop\\Fraud\\temp_saved_model_1layer.ckpt\n",
      "Dim for test_encoding and train_encoding are: \n",
      " (71202, 15) \n",
      " (213605, 15)\n"
     ]
    }
   ],
   "source": [
    "save_model = os.path.join(data_dir, 'temp_saved_model_1layer.ckpt')\n",
    "saver = tf.train.Saver()\n",
    "\n",
    "# Initializing the variables\n",
    "init = tf.global_variables_initializer()\n",
    "\n",
    "with tf.Session() as sess:\n",
    "    now = datetime.now()\n",
    "    saver.restore(sess, save_model)\n",
    "    \n",
    "    test_encoding = sess.run(encoder_op, feed_dict={X: test_x})\n",
    "    train_encoding = sess.run(encoder_op, feed_dict={X: train_x})\n",
    "    \n",
    "    print(\"Dim for test_encoding and train_encoding are: \\n\", test_encoding.shape, '\\n', train_encoding.shape)"
   ]
  },
  {
   "cell_type": "markdown",
   "metadata": {},
   "source": [
    "### 2) Build the graph for FC layers (best hidden size based on validation is found to be 4)"
   ]
  },
  {
   "cell_type": "code",
   "execution_count": 34,
   "metadata": {
    "collapsed": true
   },
   "outputs": [],
   "source": [
    "#n_input = test_encoding.shape[1]\n",
    "n_input = test_encoding.shape[1]\n",
    "\n",
    "hidden_size = 4\n",
    "output_size = 2\n",
    "\n",
    "X = tf.placeholder(tf.float32, [None, n_input], name='input_x')\n",
    "y_ = tf.placeholder(tf.int32, shape=[None, output_size], name='target_y')\n",
    "\n",
    "weights = {\n",
    "    'W1': tf.Variable(tf.truncated_normal([n_input, hidden_size])),\n",
    "    'W2': tf.Variable(tf.truncated_normal([hidden_size, output_size])),\n",
    "}\n",
    "biases = {\n",
    "    'b1': tf.Variable(tf.zeros([hidden_size])),\n",
    "    'b2': tf.Variable(tf.zeros([output_size])),\n",
    "}\n",
    "\n",
    "hidden_layer =  tf.nn.relu(tf.add(tf.matmul(X, weights['W1']), biases['b1']))\n",
    "pred_logits = tf.add(tf.matmul(hidden_layer, weights['W2']), biases['b2'])\n",
    "pred_probs = tf.nn.softmax(pred_logits)\n",
    "\n",
    "cross_entropy = tf.reduce_mean(\n",
    "    tf.nn.softmax_cross_entropy_with_logits(labels=y_, logits=pred_logits))\n",
    "\n",
    "optimizer = tf.train.AdamOptimizer(2e-4).minimize(cross_entropy)\n"
   ]
  },
  {
   "cell_type": "markdown",
   "metadata": {},
   "source": [
    "### 3) Prepare the data set. Now we need to re-split the train into train/val. We will therefore use 80% of train as our new train, and the remaining 20% as new val. (train : val : test = (0.75 x 0.8 : 0.75 x 0.2 : 0.25 x 1.0)). Then we start to train our binary classifier"
   ]
  },
  {
   "cell_type": "code",
   "execution_count": 38,
   "metadata": {
    "collapsed": false,
    "scrolled": true
   },
   "outputs": [
    {
     "name": "stdout",
     "output_type": "stream",
     "text": [
      "Num of data for train, val and test are: \n",
      "170884, \n",
      "42721, \n",
      "71202\n",
      "Epoch: 0001 cost= 0.182581738 Val auc= 0.207731 Time elapsed= 0:00:03.417090\n",
      "Epoch: 0002 cost= 0.058460854 Val auc= 0.213936 Time elapsed= 0:00:03.948501\n",
      "Epoch: 0003 cost= 0.030899705 Val auc= 0.236756 Time elapsed= 0:00:04.469928\n",
      "Epoch: 0004 cost= 0.052337252 Val auc= 0.399662 Time elapsed= 0:00:04.997292\n",
      "Epoch: 0005 cost= 0.012877962 Val auc= 0.747521 Time elapsed= 0:00:05.495617\n",
      "Epoch: 0006 cost= 0.036469478 Val auc= 0.895387 Time elapsed= 0:00:06.020049\n",
      "Epoch: 0007 cost= 0.016839981 Val auc= 0.921843 Time elapsed= 0:00:06.534381\n",
      "Epoch: 0008 cost= 0.045645520 Val auc= 0.931608 Time elapsed= 0:00:07.066796\n",
      "Epoch: 0009 cost= 0.001679820 Val auc= 0.935035 Time elapsed= 0:00:07.579160\n",
      "Epoch: 0010 cost= 0.007926022 Val auc= 0.936375 Time elapsed= 0:00:08.127619\n",
      "Epoch: 0011 cost= 0.003439063 Val auc= 0.937361 Time elapsed= 0:00:08.654019\n",
      "Epoch: 0012 cost= 0.006417141 Val auc= 0.937514 Time elapsed= 0:00:09.185460\n",
      "Epoch: 0013 cost= 0.005681335 Val auc= 0.938480 Time elapsed= 0:00:09.696794\n",
      "Epoch: 0014 cost= 0.001597865 Val auc= 0.939942 Time elapsed= 0:00:10.230210\n",
      "Epoch: 0015 cost= 0.004186338 Val auc= 0.940151 Time elapsed= 0:00:10.749591\n",
      "Epoch: 0016 cost= 0.002913384 Val auc= 0.941176 Time elapsed= 0:00:11.280004\n",
      "Epoch: 0017 cost= 0.003924223 Val auc= 0.942573 Time elapsed= 0:00:11.795375\n",
      "Epoch: 0018 cost= 0.003839394 Val auc= 0.943365 Time elapsed= 0:00:12.329797\n",
      "Epoch: 0019 cost= 0.001303510 Val auc= 0.944598 Time elapsed= 0:00:12.847199\n",
      "Epoch: 0020 cost= 0.002293159 Val auc= 0.945166 Time elapsed= 0:00:13.376578\n",
      "Epoch: 0021 cost= 0.000685170 Val auc= 0.946547 Time elapsed= 0:00:13.903014\n",
      "Epoch: 0022 cost= 0.001755937 Val auc= 0.947023 Time elapsed= 0:00:14.468482\n",
      "Epoch: 0023 cost= 0.001481426 Val auc= 0.948010 Time elapsed= 0:00:15.024964\n",
      "Epoch: 0024 cost= 0.000348441 Val auc= 0.949114 Time elapsed= 0:00:15.510253\n",
      "Epoch: 0025 cost= 0.000363539 Val auc= 0.948550 Time elapsed= 0:00:15.985519\n",
      "Epoch: 0026 cost= 0.007691520 Val auc= 0.950286 Time elapsed= 0:00:16.452761\n",
      "Epoch: 0027 cost= 0.008556660 Val auc= 0.949917 Time elapsed= 0:00:16.930065\n",
      "Epoch: 0028 cost= 0.000777736 Val auc= 0.949892 Time elapsed= 0:00:17.398276\n",
      "Epoch: 0029 cost= 0.001291452 Val auc= 0.949973 Time elapsed= 0:00:17.875580\n",
      "Epoch: 0030 cost= 0.000441065 Val auc= 0.950238 Time elapsed= 0:00:18.345831\n",
      "Epoch: 0031 cost= 0.001152101 Val auc= 0.950232 Time elapsed= 0:00:18.830083\n",
      "Epoch: 0032 cost= 0.000309979 Val auc= 0.950296 Time elapsed= 0:00:19.299366\n",
      "Epoch: 0033 cost= 0.000525908 Val auc= 0.950433 Time elapsed= 0:00:19.799663\n",
      "Epoch: 0034 cost= 0.000270954 Val auc= 0.949953 Time elapsed= 0:00:20.324092\n",
      "Epoch: 0035 cost= 0.000729415 Val auc= 0.949786 Time elapsed= 0:00:20.805373\n",
      "Epoch: 0036 cost= 0.000435273 Val auc= 0.949889 Time elapsed= 0:00:21.286618\n",
      "Epoch: 0037 cost= 0.000425348 Val auc= 0.949030 Time elapsed= 0:00:21.756868\n",
      "Epoch: 0038 cost= 0.001161538 Val auc= 0.948803 Time elapsed= 0:00:22.234138\n",
      "Epoch: 0039 cost= 0.006822366 Val auc= 0.948048 Time elapsed= 0:00:22.708399\n",
      "Epoch: 0040 cost= 0.000728036 Val auc= 0.949060 Time elapsed= 0:00:23.259900\n",
      "Epoch: 0041 cost= 0.001175512 Val auc= 0.948545 Time elapsed= 0:00:23.744190\n",
      "Epoch: 0042 cost= 0.006420946 Val auc= 0.949168 Time elapsed= 0:00:24.281588\n",
      "Epoch: 0043 cost= 0.000412152 Val auc= 0.948237 Time elapsed= 0:00:24.769917\n",
      "Epoch: 0044 cost= 0.000429687 Val auc= 0.948838 Time elapsed= 0:00:25.307346\n",
      "Epoch: 0045 cost= 0.001194094 Val auc= 0.947878 Time elapsed= 0:00:25.790633\n",
      "Epoch: 0046 cost= 0.001505452 Val auc= 0.947482 Time elapsed= 0:00:26.257840\n",
      "Epoch: 0047 cost= 0.000321850 Val auc= 0.948132 Time elapsed= 0:00:26.791289\n",
      "Epoch: 0048 cost= 0.001842039 Val auc= 0.947630 Time elapsed= 0:00:27.276583\n",
      "Epoch: 0049 cost= 0.000590771 Val auc= 0.947052 Time elapsed= 0:00:27.758831\n",
      "Epoch: 0050 cost= 0.001234332 Val auc= 0.947621 Time elapsed= 0:00:28.231089\n",
      "Epoch: 0051 cost= 0.001385130 Val auc= 0.947609 Time elapsed= 0:00:28.708358\n",
      "Epoch: 0052 cost= 0.000439028 Val auc= 0.947302 Time elapsed= 0:00:29.250813\n",
      "Epoch: 0053 cost= 0.000305564 Val auc= 0.947095 Time elapsed= 0:00:29.764165\n",
      "Epoch: 0054 cost= 0.021936428 Val auc= 0.947347 Time elapsed= 0:00:30.276528\n",
      "Epoch: 0055 cost= 0.033025336 Val auc= 0.947736 Time elapsed= 0:00:30.760852\n",
      "Epoch: 0056 cost= 0.000335789 Val auc= 0.947627 Time elapsed= 0:00:31.229061\n",
      "Epoch: 0057 cost= 0.006740241 Val auc= 0.947932 Time elapsed= 0:00:31.708338\n",
      "Epoch: 0058 cost= 0.007069444 Val auc= 0.948393 Time elapsed= 0:00:32.175618\n",
      "Epoch: 0059 cost= 0.001206178 Val auc= 0.947720 Time elapsed= 0:00:32.644828\n",
      "Epoch: 0060 cost= 0.000577899 Val auc= 0.948092 Time elapsed= 0:00:33.125141\n",
      "Epoch: 0061 cost= 0.026556492 Val auc= 0.947802 Time elapsed= 0:00:33.600370\n",
      "Epoch: 0062 cost= 0.001349448 Val auc= 0.947688 Time elapsed= 0:00:34.109760\n",
      "Epoch: 0063 cost= 0.006423476 Val auc= 0.948004 Time elapsed= 0:00:34.579007\n",
      "Epoch: 0064 cost= 0.001265702 Val auc= 0.947720 Time elapsed= 0:00:35.095344\n",
      "Epoch: 0065 cost= 0.000439665 Val auc= 0.947903 Time elapsed= 0:00:35.565598\n",
      "Epoch: 0066 cost= 0.000438524 Val auc= 0.948328 Time elapsed= 0:00:36.042866\n",
      "Epoch: 0067 cost= 0.022982113 Val auc= 0.947995 Time elapsed= 0:00:36.543232\n",
      "Epoch: 0068 cost= 0.000407027 Val auc= 0.947974 Time elapsed= 0:00:37.014450\n",
      "Epoch: 0069 cost= 0.015265242 Val auc= 0.947401 Time elapsed= 0:00:37.488747\n",
      "Epoch: 0070 cost= 0.002139451 Val auc= 0.947687 Time elapsed= 0:00:37.989072\n",
      "Optimization Finished!\n",
      "Model saved in file: C:\\Users\\weimin\\Desktop\\Fraud\\temp_saved_model_FCLayers.ckpt\n"
     ]
    }
   ],
   "source": [
    "n_epochs = 70\n",
    "batch_size = 256\n",
    "\n",
    "# PREPARE DATA\n",
    "VAL_PERC = 0.2\n",
    "all_y_bin = np.zeros((df.shape[0], 2))\n",
    "all_y_bin[range(df.shape[0]), df['Class'].values] = 1\n",
    "\n",
    "train_enc_x = train_encoding[:int(train_encoding.shape[0] * (1-VAL_PERC))]\n",
    "train_enc_y = all_y_bin[:int(train_encoding.shape[0] * (1-VAL_PERC))]\n",
    "\n",
    "val_enc_x = train_encoding[int(train_encoding.shape[0] * (1-VAL_PERC)):]\n",
    "val_enc_y = all_y_bin[int(train_encoding.shape[0] * (1-VAL_PERC)):train_encoding.shape[0]]\n",
    "\n",
    "test_enc_y = all_y_bin[train_encoding.shape[0]:]\n",
    "print(\"Num of data for train, val and test are: \\n{}, \\n{}, \\n{}\".format(train_enc_x.shape[0], val_enc_x.shape[0], \\\n",
    "                                                                        test_encoding.shape[0]))\n",
    "\n",
    "# TRAIN STARTS\n",
    "save_model = os.path.join(data_dir, 'temp_saved_model_FCLayers.ckpt')\n",
    "saver = tf.train.Saver()\n",
    "\n",
    "# Initializing the variables\n",
    "init = tf.global_variables_initializer()\n",
    "\n",
    "with tf.Session() as sess:\n",
    "    now = datetime.now()\n",
    "    sess.run(init)\n",
    "    total_batch = int(train_enc_x.shape[0]/batch_size)\n",
    "    # Training cycle\n",
    "    for epoch in range(n_epochs):\n",
    "        # Loop over all batches\n",
    "        for i in range(total_batch):\n",
    "            batch_idx = np.random.choice(train_enc_x.shape[0], batch_size)\n",
    "            batch_xs = train_enc_x[batch_idx]\n",
    "            batch_ys = train_enc_y[batch_idx]\n",
    "\n",
    "            # Run optimization op (backprop) and cost op (to get loss value)\n",
    "            _, c = sess.run([optimizer, cross_entropy], feed_dict={X: batch_xs, y_: batch_ys})\n",
    "            \n",
    "        # Display logs per epoch step\n",
    "        if epoch % display_step == 0:\n",
    "            val_probs = sess.run(pred_probs, feed_dict={X: val_enc_x})\n",
    "            print(\"Epoch:\", '%04d' % (epoch+1),\n",
    "                  \"cost=\", \"{:.9f}\".format(c), \n",
    "                  \"Val auc=\", \"{:.6f}\".format(auc(val_enc_y[:, 1], val_probs[:, 1])), \n",
    "                  \"Time elapsed=\", \"{}\".format(datetime.now() - now))\n",
    "\n",
    "    print(\"Optimization Finished!\")\n",
    "    \n",
    "    save_path = saver.save(sess, save_model)\n",
    "    print(\"Model saved in file: %s\" % save_path)\n",
    "    "
   ]
  },
  {
   "cell_type": "markdown",
   "metadata": {},
   "source": [
    "### 4) Test the model on the same test data as before - improved on AUC slightly "
   ]
  },
  {
   "cell_type": "code",
   "execution_count": 39,
   "metadata": {
    "collapsed": false
   },
   "outputs": [
    {
     "name": "stdout",
     "output_type": "stream",
     "text": [
      "INFO:tensorflow:Restoring parameters from C:\\Users\\weimin\\Desktop\\Fraud\\temp_saved_model_FCLayers.ckpt\n",
      "Test auc score: 0.9556314697810582\n"
     ]
    }
   ],
   "source": [
    "save_model = os.path.join(data_dir, 'temp_saved_model_FCLayers.ckpt')\n",
    "saver = tf.train.Saver()\n",
    "# Initializing the variables\n",
    "init = tf.global_variables_initializer()\n",
    "\n",
    "with tf.Session() as sess:\n",
    "    now = datetime.now()\n",
    "    \n",
    "    saver.restore(sess, save_model)\n",
    "    \n",
    "    test_probs = sess.run(pred_probs, feed_dict={X: test_encoding})\n",
    "    \n",
    "    print(\"Test auc score: {}\".format(auc(test_enc_y[:, 1], test_probs[:, 1])))"
   ]
  },
  {
   "cell_type": "markdown",
   "metadata": {},
   "source": [
    "## 3. (Optional) However, let's test a simple supervisied neural network (two layers) from scratch - without using auto-encoder"
   ]
  },
  {
   "cell_type": "markdown",
   "metadata": {},
   "source": [
    "### 1) Build graph - 28 (input) -> 8 -> 4 -> 2"
   ]
  },
  {
   "cell_type": "code",
   "execution_count": 44,
   "metadata": {
    "collapsed": true
   },
   "outputs": [],
   "source": [
    "n_epochs = 200\n",
    "batch_size = 256\n",
    "\n",
    "#n_input = test_encoding.shape[1]\n",
    "n_input = train_x.shape[1]\n",
    "\n",
    "hidden1_size = 8\n",
    "hidden2_size = 4\n",
    "output_size = 2\n",
    "\n",
    "X = tf.placeholder(tf.float32, [None, n_input], name='input_x')\n",
    "y_ = tf.placeholder(tf.int32, shape=[None, output_size], name='target_y')\n",
    "\n",
    "weights = {\n",
    "    'W1': tf.Variable(tf.truncated_normal([n_input, hidden1_size])),\n",
    "    'W2': tf.Variable(tf.truncated_normal([hidden1_size, hidden2_size])),\n",
    "    'W3': tf.Variable(tf.truncated_normal([hidden2_size, output_size])),\n",
    "}\n",
    "biases = {\n",
    "    'b1': tf.Variable(tf.zeros([hidden1_size])),\n",
    "    'b2': tf.Variable(tf.zeros([hidden2_size])),\n",
    "    'b3': tf.Variable(tf.zeros([output_size])),\n",
    "}\n",
    "\n",
    "hidden1_layer =  tf.nn.relu(tf.add(tf.matmul(X, weights['W1']), biases['b1']))\n",
    "hidden2_layer =  tf.nn.relu(tf.add(tf.matmul(hidden1_layer, weights['W2']), biases['b2']))\n",
    "pred_logits = tf.add(tf.matmul(hidden2_layer, weights['W3']), biases['b3'])\n",
    "pred_probs = tf.nn.softmax(pred_logits)\n",
    "\n",
    "cross_entropy = tf.reduce_mean(\n",
    "    tf.nn.softmax_cross_entropy_with_logits(labels=y_, logits=pred_logits))\n",
    "\n",
    "optimizer = tf.train.AdamOptimizer(1e-4).minimize(cross_entropy)\n"
   ]
  },
  {
   "cell_type": "markdown",
   "metadata": {},
   "source": [
    "### 2) Prepare the data set. Now we need to re-split the train into train/val. We will therefore use 80% of train as our new train, and the remaining 20% as new val. (train : val : test = (0.75 x 0.8 : 0.75 x 0.2 : 0.25 x 1.0)). Then we start to train our Feedford neural network"
   ]
  },
  {
   "cell_type": "code",
   "execution_count": 45,
   "metadata": {
    "collapsed": false,
    "scrolled": true
   },
   "outputs": [
    {
     "name": "stdout",
     "output_type": "stream",
     "text": [
      "Num of data for train, val and test are: \n",
      "170884, \n",
      "42721, \n",
      "71202\n",
      "Epoch: 0001 cost= 0.040468249 Val auc= 0.325239 Time elapsed= 0:00:05.180817\n",
      "Epoch: 0002 cost= 0.035306405 Val auc= 0.388354 Time elapsed= 0:00:05.851594\n",
      "Epoch: 0003 cost= 0.035373054 Val auc= 0.467323 Time elapsed= 0:00:06.498285\n",
      "Epoch: 0004 cost= 0.058311760 Val auc= 0.532444 Time elapsed= 0:00:07.163055\n",
      "Epoch: 0005 cost= 0.019052731 Val auc= 0.593557 Time elapsed= 0:00:07.815824\n",
      "Epoch: 0006 cost= 0.044786640 Val auc= 0.645813 Time elapsed= 0:00:08.532697\n",
      "Epoch: 0007 cost= 0.018334387 Val auc= 0.701125 Time elapsed= 0:00:09.236605\n",
      "Epoch: 0008 cost= 0.014931509 Val auc= 0.769009 Time elapsed= 0:00:09.936430\n",
      "Epoch: 0009 cost= 0.011636144 Val auc= 0.810144 Time elapsed= 0:00:10.559088\n",
      "Epoch: 0010 cost= 0.008489504 Val auc= 0.832298 Time elapsed= 0:00:11.160689\n",
      "Epoch: 0011 cost= 0.006762304 Val auc= 0.843969 Time elapsed= 0:00:11.762322\n",
      "Epoch: 0012 cost= 0.007114011 Val auc= 0.851879 Time elapsed= 0:00:12.370904\n",
      "Epoch: 0013 cost= 0.007512776 Val auc= 0.858379 Time elapsed= 0:00:12.971503\n",
      "Epoch: 0014 cost= 0.002974052 Val auc= 0.861122 Time elapsed= 0:00:13.587175\n",
      "Epoch: 0015 cost= 0.004064919 Val auc= 0.864751 Time elapsed= 0:00:14.184763\n",
      "Epoch: 0016 cost= 0.004419648 Val auc= 0.867623 Time elapsed= 0:00:14.794352\n",
      "Epoch: 0017 cost= 0.003554455 Val auc= 0.871195 Time elapsed= 0:00:15.393945\n",
      "Epoch: 0018 cost= 0.001294234 Val auc= 0.874773 Time elapsed= 0:00:16.103835\n",
      "Epoch: 0019 cost= 0.004041444 Val auc= 0.879163 Time elapsed= 0:00:16.717468\n",
      "Epoch: 0020 cost= 0.002081525 Val auc= 0.880892 Time elapsed= 0:00:17.351154\n",
      "Epoch: 0021 cost= 0.001777722 Val auc= 0.884195 Time elapsed= 0:00:18.042991\n",
      "Epoch: 0022 cost= 0.070494801 Val auc= 0.886706 Time elapsed= 0:00:18.707759\n",
      "Epoch: 0023 cost= 0.004722831 Val auc= 0.889980 Time elapsed= 0:00:19.402608\n",
      "Epoch: 0024 cost= 0.001268321 Val auc= 0.893712 Time elapsed= 0:00:20.074394\n",
      "Epoch: 0025 cost= 0.001690960 Val auc= 0.898094 Time elapsed= 0:00:20.749190\n",
      "Epoch: 0026 cost= 0.049302157 Val auc= 0.902242 Time elapsed= 0:00:21.434046\n",
      "Epoch: 0027 cost= 0.001829385 Val auc= 0.904997 Time elapsed= 0:00:22.073747\n",
      "Epoch: 0028 cost= 0.049344394 Val auc= 0.905859 Time elapsed= 0:00:22.711410\n",
      "Epoch: 0029 cost= 0.001225520 Val auc= 0.907995 Time elapsed= 0:00:23.482496\n",
      "Epoch: 0030 cost= 0.000928764 Val auc= 0.911491 Time elapsed= 0:00:24.128214\n",
      "Epoch: 0031 cost= 0.000751568 Val auc= 0.912286 Time elapsed= 0:00:24.770888\n",
      "Epoch: 0032 cost= 0.001236153 Val auc= 0.914481 Time elapsed= 0:00:25.519878\n",
      "Epoch: 0033 cost= 0.015178922 Val auc= 0.915785 Time elapsed= 0:00:26.148584\n",
      "Epoch: 0034 cost= 0.000711051 Val auc= 0.917233 Time elapsed= 0:00:26.765190\n",
      "Epoch: 0035 cost= 0.000776973 Val auc= 0.918654 Time elapsed= 0:00:27.373809\n",
      "Epoch: 0036 cost= 0.001065262 Val auc= 0.919270 Time elapsed= 0:00:27.984434\n",
      "Epoch: 0037 cost= 0.000760010 Val auc= 0.920689 Time elapsed= 0:00:28.595059\n",
      "Epoch: 0038 cost= 0.000980297 Val auc= 0.922112 Time elapsed= 0:00:29.193649\n",
      "Epoch: 0039 cost= 0.046540443 Val auc= 0.922120 Time elapsed= 0:00:29.806278\n",
      "Epoch: 0040 cost= 0.000538412 Val auc= 0.922857 Time elapsed= 0:00:30.404872\n",
      "Epoch: 0041 cost= 0.000580229 Val auc= 0.923489 Time elapsed= 0:00:31.015530\n",
      "Epoch: 0042 cost= 0.000913732 Val auc= 0.924190 Time elapsed= 0:00:31.622136\n",
      "Epoch: 0043 cost= 0.001112483 Val auc= 0.923704 Time elapsed= 0:00:32.220728\n",
      "Epoch: 0044 cost= 0.000885677 Val auc= 0.924142 Time elapsed= 0:00:32.832362\n",
      "Epoch: 0045 cost= 0.004391036 Val auc= 0.924472 Time elapsed= 0:00:33.430920\n",
      "Epoch: 0046 cost= 0.021967666 Val auc= 0.924426 Time elapsed= 0:00:34.042546\n",
      "Epoch: 0047 cost= 0.000886974 Val auc= 0.925232 Time elapsed= 0:00:34.640135\n",
      "Epoch: 0048 cost= 0.043955125 Val auc= 0.925841 Time elapsed= 0:00:35.250796\n",
      "Epoch: 0049 cost= 0.000472108 Val auc= 0.925898 Time elapsed= 0:00:36.001760\n",
      "Epoch: 0050 cost= 0.006673889 Val auc= 0.927685 Time elapsed= 0:00:36.642461\n",
      "Epoch: 0051 cost= 0.001120769 Val auc= 0.928893 Time elapsed= 0:00:37.277187\n",
      "Epoch: 0052 cost= 0.001485452 Val auc= 0.929291 Time elapsed= 0:00:37.883793\n",
      "Epoch: 0053 cost= 0.010922685 Val auc= 0.928809 Time elapsed= 0:00:38.495417\n",
      "Epoch: 0054 cost= 0.000313734 Val auc= 0.928147 Time elapsed= 0:00:39.173193\n",
      "Epoch: 0055 cost= 0.066810884 Val auc= 0.928753 Time elapsed= 0:00:39.830943\n",
      "Epoch: 0056 cost= 0.000422718 Val auc= 0.929409 Time elapsed= 0:00:40.498739\n",
      "Epoch: 0057 cost= 0.000451357 Val auc= 0.929628 Time elapsed= 0:00:41.100320\n",
      "Epoch: 0058 cost= 0.001005127 Val auc= 0.930228 Time elapsed= 0:00:41.783172\n",
      "Epoch: 0059 cost= 0.000800938 Val auc= 0.930222 Time elapsed= 0:00:42.412845\n",
      "Epoch: 0060 cost= 0.000630695 Val auc= 0.930596 Time elapsed= 0:00:43.009431\n",
      "Epoch: 0061 cost= 0.000486179 Val auc= 0.930971 Time elapsed= 0:00:43.621023\n",
      "Epoch: 0062 cost= 0.000455273 Val auc= 0.931817 Time elapsed= 0:00:44.214601\n",
      "Epoch: 0063 cost= 0.000660782 Val auc= 0.932873 Time elapsed= 0:00:44.824222\n",
      "Epoch: 0064 cost= 0.004659743 Val auc= 0.932824 Time elapsed= 0:00:45.420812\n",
      "Epoch: 0065 cost= 0.000479863 Val auc= 0.933134 Time elapsed= 0:00:46.031469\n",
      "Epoch: 0066 cost= 0.001354309 Val auc= 0.933310 Time elapsed= 0:00:46.639049\n",
      "Epoch: 0067 cost= 0.000482411 Val auc= 0.933588 Time elapsed= 0:00:47.239684\n",
      "Epoch: 0068 cost= 0.000753474 Val auc= 0.933416 Time elapsed= 0:00:47.849306\n",
      "Epoch: 0069 cost= 0.000704671 Val auc= 0.934577 Time elapsed= 0:00:48.445858\n",
      "Epoch: 0070 cost= 0.012711940 Val auc= 0.934767 Time elapsed= 0:00:49.057517\n",
      "Epoch: 0071 cost= 0.000474494 Val auc= 0.935490 Time elapsed= 0:00:49.660086\n",
      "Epoch: 0072 cost= 0.000522156 Val auc= 0.935657 Time elapsed= 0:00:50.270738\n",
      "Epoch: 0073 cost= 0.000979305 Val auc= 0.936166 Time elapsed= 0:00:50.870304\n",
      "Epoch: 0074 cost= 0.000649971 Val auc= 0.936200 Time elapsed= 0:00:51.474948\n",
      "Epoch: 0075 cost= 0.000636919 Val auc= 0.936055 Time elapsed= 0:00:52.130687\n",
      "Epoch: 0076 cost= 0.001072419 Val auc= 0.936828 Time elapsed= 0:00:52.852613\n",
      "Epoch: 0077 cost= 0.000425085 Val auc= 0.936628 Time elapsed= 0:00:53.476235\n",
      "Epoch: 0078 cost= 0.000483887 Val auc= 0.936961 Time elapsed= 0:00:54.149025\n",
      "Epoch: 0079 cost= 0.000372631 Val auc= 0.936755 Time elapsed= 0:00:54.786755\n",
      "Epoch: 0080 cost= 0.000417533 Val auc= 0.936559 Time elapsed= 0:00:55.472545\n",
      "Epoch: 0081 cost= 0.000474568 Val auc= 0.937195 Time elapsed= 0:00:56.097208\n",
      "Epoch: 0082 cost= 0.003457256 Val auc= 0.937659 Time elapsed= 0:00:56.706830\n",
      "Epoch: 0083 cost= 0.000591682 Val auc= 0.937525 Time elapsed= 0:00:57.305420\n",
      "Epoch: 0084 cost= 0.000644049 Val auc= 0.937849 Time elapsed= 0:00:57.911069\n",
      "Epoch: 0085 cost= 0.000375735 Val auc= 0.937543 Time elapsed= 0:00:58.516677\n",
      "Epoch: 0086 cost= 0.002177193 Val auc= 0.937433 Time elapsed= 0:00:59.115270\n",
      "Epoch: 0087 cost= 0.000366558 Val auc= 0.937990 Time elapsed= 0:00:59.763282\n",
      "Epoch: 0088 cost= 0.045915734 Val auc= 0.938450 Time elapsed= 0:01:00.457161\n",
      "Epoch: 0089 cost= 0.000904620 Val auc= 0.938465 Time elapsed= 0:01:01.118887\n",
      "Epoch: 0090 cost= 0.000338566 Val auc= 0.938755 Time elapsed= 0:01:01.780647\n",
      "Epoch: 0091 cost= 0.000369148 Val auc= 0.939186 Time elapsed= 0:01:02.397322\n",
      "Epoch: 0092 cost= 0.001583059 Val auc= 0.939294 Time elapsed= 0:01:03.085151\n",
      "Epoch: 0093 cost= 0.015807930 Val auc= 0.939506 Time elapsed= 0:01:03.706770\n",
      "Epoch: 0094 cost= 0.000327918 Val auc= 0.939701 Time elapsed= 0:01:04.316426\n",
      "Epoch: 0095 cost= 0.000484254 Val auc= 0.939762 Time elapsed= 0:01:04.928019\n",
      "Epoch: 0096 cost= 0.031269640 Val auc= 0.939813 Time elapsed= 0:01:05.523602\n",
      "Epoch: 0097 cost= 0.000837921 Val auc= 0.940641 Time elapsed= 0:01:06.129247\n",
      "Epoch: 0098 cost= 0.000504418 Val auc= 0.940583 Time elapsed= 0:01:06.728807\n",
      "Epoch: 0099 cost= 0.000292782 Val auc= 0.941090 Time elapsed= 0:01:07.340472\n",
      "Epoch: 0100 cost= 0.000341894 Val auc= 0.941516 Time elapsed= 0:01:08.030269\n",
      "Epoch: 0101 cost= 0.000370924 Val auc= 0.941951 Time elapsed= 0:01:08.652924\n",
      "Epoch: 0102 cost= 0.000529793 Val auc= 0.941705 Time elapsed= 0:01:09.259539\n",
      "Epoch: 0103 cost= 0.000458599 Val auc= 0.942075 Time elapsed= 0:01:09.860171\n",
      "Epoch: 0104 cost= 0.027924299 Val auc= 0.941844 Time elapsed= 0:01:10.466785\n",
      "Epoch: 0105 cost= 0.000331197 Val auc= 0.942349 Time elapsed= 0:01:11.078377\n",
      "Epoch: 0106 cost= 0.000314879 Val auc= 0.942720 Time elapsed= 0:01:11.767237\n",
      "Epoch: 0107 cost= 0.000196609 Val auc= 0.942604 Time elapsed= 0:01:12.383848\n",
      "Epoch: 0108 cost= 0.000243780 Val auc= 0.943162 Time elapsed= 0:01:13.077695\n",
      "Epoch: 0109 cost= 0.014628510 Val auc= 0.943442 Time elapsed= 0:01:13.694372\n",
      "Epoch: 0110 cost= 0.003521365 Val auc= 0.943230 Time elapsed= 0:01:14.289953\n",
      "Epoch: 0111 cost= 0.001652211 Val auc= 0.943194 Time elapsed= 0:01:14.983799\n",
      "Epoch: 0112 cost= 0.000318703 Val auc= 0.943722 Time elapsed= 0:01:15.605455\n",
      "Epoch: 0113 cost= 0.006262233 Val auc= 0.944066 Time elapsed= 0:01:16.206014\n",
      "Epoch: 0114 cost= 0.000739925 Val auc= 0.944397 Time elapsed= 0:01:16.824659\n",
      "Epoch: 0115 cost= 0.005477867 Val auc= 0.944826 Time elapsed= 0:01:17.430272\n",
      "Epoch: 0116 cost= 0.000283423 Val auc= 0.944952 Time elapsed= 0:01:18.041897\n",
      "Epoch: 0117 cost= 0.000238850 Val auc= 0.944982 Time elapsed= 0:01:18.637517\n",
      "Epoch: 0118 cost= 0.000245154 Val auc= 0.945127 Time elapsed= 0:01:19.248141\n",
      "Epoch: 0119 cost= 0.002327343 Val auc= 0.945271 Time elapsed= 0:01:19.850708\n",
      "Epoch: 0120 cost= 0.000229534 Val auc= 0.945383 Time elapsed= 0:01:20.455352\n",
      "Epoch: 0121 cost= 0.000273838 Val auc= 0.945442 Time elapsed= 0:01:21.064974\n",
      "Epoch: 0122 cost= 0.000423115 Val auc= 0.945734 Time elapsed= 0:01:21.669582\n",
      "Epoch: 0123 cost= 0.000422732 Val auc= 0.945846 Time elapsed= 0:01:22.279171\n",
      "Epoch: 0124 cost= 0.000492670 Val auc= 0.946084 Time elapsed= 0:01:22.876792\n",
      "Epoch: 0125 cost= 0.000165862 Val auc= 0.945938 Time elapsed= 0:01:23.486412\n",
      "Epoch: 0126 cost= 0.001632753 Val auc= 0.945944 Time elapsed= 0:01:24.082967\n",
      "Epoch: 0127 cost= 0.000617904 Val auc= 0.946002 Time elapsed= 0:01:24.690581\n",
      "Epoch: 0128 cost= 0.000246871 Val auc= 0.946401 Time elapsed= 0:01:25.295190\n",
      "Epoch: 0129 cost= 0.001718988 Val auc= 0.946403 Time elapsed= 0:01:25.894819\n",
      "Epoch: 0130 cost= 0.000334369 Val auc= 0.946532 Time elapsed= 0:01:26.503404\n",
      "Epoch: 0131 cost= 0.000350451 Val auc= 0.946814 Time elapsed= 0:01:27.101995\n",
      "Epoch: 0132 cost= 0.000499874 Val auc= 0.946705 Time elapsed= 0:01:27.710615\n",
      "Epoch: 0133 cost= 0.000511803 Val auc= 0.947119 Time elapsed= 0:01:28.329259\n",
      "Epoch: 0134 cost= 0.000401860 Val auc= 0.947194 Time elapsed= 0:01:28.979989\n",
      "Epoch: 0135 cost= 0.000501440 Val auc= 0.947338 Time elapsed= 0:01:29.593656\n",
      "Epoch: 0136 cost= 0.000871440 Val auc= 0.947772 Time elapsed= 0:01:30.191212\n",
      "Epoch: 0137 cost= 0.000350594 Val auc= 0.947888 Time elapsed= 0:01:30.798829\n",
      "Epoch: 0138 cost= 0.000370808 Val auc= 0.948050 Time elapsed= 0:01:31.398423\n",
      "Epoch: 0139 cost= 0.001055439 Val auc= 0.948037 Time elapsed= 0:01:32.007043\n",
      "Epoch: 0140 cost= 0.000314105 Val auc= 0.947878 Time elapsed= 0:01:32.607638\n",
      "Epoch: 0141 cost= 0.000223214 Val auc= 0.947936 Time elapsed= 0:01:33.219267\n",
      "Epoch: 0142 cost= 0.000413165 Val auc= 0.948281 Time elapsed= 0:01:33.826882\n",
      "Epoch: 0143 cost= 0.000234765 Val auc= 0.948560 Time elapsed= 0:01:34.426476\n",
      "Epoch: 0144 cost= 0.000324353 Val auc= 0.948714 Time elapsed= 0:01:35.040142\n",
      "Epoch: 0145 cost= 0.000315908 Val auc= 0.948789 Time elapsed= 0:01:35.641709\n",
      "Epoch: 0146 cost= 0.000187110 Val auc= 0.948943 Time elapsed= 0:01:36.252332\n",
      "Epoch: 0147 cost= 0.000205271 Val auc= 0.948909 Time elapsed= 0:01:36.849958\n",
      "Epoch: 0148 cost= 0.000297346 Val auc= 0.949307 Time elapsed= 0:01:37.464558\n",
      "Epoch: 0149 cost= 0.000389144 Val auc= 0.949332 Time elapsed= 0:01:38.072174\n",
      "Epoch: 0150 cost= 0.001833800 Val auc= 0.949423 Time elapsed= 0:01:38.671802\n",
      "Epoch: 0151 cost= 0.000930902 Val auc= 0.949494 Time elapsed= 0:01:39.282428\n",
      "Epoch: 0152 cost= 0.000635648 Val auc= 0.949657 Time elapsed= 0:01:39.877010\n",
      "Epoch: 0153 cost= 0.002338056 Val auc= 0.949610 Time elapsed= 0:01:40.487597\n",
      "Epoch: 0154 cost= 0.030481145 Val auc= 0.949792 Time elapsed= 0:01:41.087194\n",
      "Epoch: 0155 cost= 0.002830613 Val auc= 0.949944 Time elapsed= 0:01:41.702864\n",
      "Epoch: 0156 cost= 0.000249402 Val auc= 0.949970 Time elapsed= 0:01:42.303430\n",
      "Epoch: 0157 cost= 0.003055960 Val auc= 0.949991 Time elapsed= 0:01:42.910075\n",
      "Epoch: 0158 cost= 0.000213830 Val auc= 0.950399 Time elapsed= 0:01:43.519663\n",
      "Epoch: 0159 cost= 0.000241917 Val auc= 0.950073 Time elapsed= 0:01:44.118253\n",
      "Epoch: 0160 cost= 0.003040896 Val auc= 0.950532 Time elapsed= 0:01:44.735900\n",
      "Epoch: 0161 cost= 0.021820394 Val auc= 0.950543 Time elapsed= 0:01:45.357550\n",
      "Epoch: 0162 cost= 0.032420643 Val auc= 0.950603 Time elapsed= 0:01:45.968216\n",
      "Epoch: 0163 cost= 0.000237668 Val auc= 0.950312 Time elapsed= 0:01:46.568772\n",
      "Epoch: 0164 cost= 0.000465537 Val auc= 0.950668 Time elapsed= 0:01:47.174382\n",
      "Epoch: 0165 cost= 0.000630139 Val auc= 0.950616 Time elapsed= 0:01:47.785007\n",
      "Epoch: 0166 cost= 0.000198609 Val auc= 0.950462 Time elapsed= 0:01:48.380592\n",
      "Epoch: 0167 cost= 0.000270512 Val auc= 0.950597 Time elapsed= 0:01:48.987242\n",
      "Epoch: 0168 cost= 0.000333281 Val auc= 0.950604 Time elapsed= 0:01:49.588806\n",
      "Epoch: 0169 cost= 0.000183828 Val auc= 0.950517 Time elapsed= 0:01:50.195419\n",
      "Epoch: 0170 cost= 0.000218657 Val auc= 0.950634 Time elapsed= 0:01:50.793008\n",
      "Epoch: 0171 cost= 0.000346057 Val auc= 0.950869 Time elapsed= 0:01:51.402665\n",
      "Epoch: 0172 cost= 0.001631355 Val auc= 0.950852 Time elapsed= 0:01:52.008240\n",
      "Epoch: 0173 cost= 0.000211280 Val auc= 0.950784 Time elapsed= 0:01:52.607869\n",
      "Epoch: 0174 cost= 0.000214562 Val auc= 0.950591 Time elapsed= 0:01:53.218493\n",
      "Epoch: 0175 cost= 0.001123605 Val auc= 0.950453 Time elapsed= 0:01:53.821097\n",
      "Epoch: 0176 cost= 0.000174182 Val auc= 0.950680 Time elapsed= 0:01:54.429681\n",
      "Epoch: 0177 cost= 0.000924346 Val auc= 0.950769 Time elapsed= 0:01:55.029274\n",
      "Epoch: 0178 cost= 0.000242713 Val auc= 0.950819 Time elapsed= 0:01:55.638932\n",
      "Epoch: 0179 cost= 0.000292793 Val auc= 0.950939 Time elapsed= 0:01:56.240499\n",
      "Epoch: 0180 cost= 0.000237769 Val auc= 0.950862 Time elapsed= 0:01:56.841094\n",
      "Epoch: 0181 cost= 0.000280685 Val auc= 0.950832 Time elapsed= 0:01:57.451718\n",
      "Epoch: 0182 cost= 0.000912431 Val auc= 0.951153 Time elapsed= 0:01:58.049308\n",
      "Epoch: 0183 cost= 0.000173386 Val auc= 0.951259 Time elapsed= 0:01:58.658928\n",
      "Epoch: 0184 cost= 0.001672110 Val auc= 0.951345 Time elapsed= 0:01:59.255518\n",
      "Epoch: 0185 cost= 0.000276371 Val auc= 0.951269 Time elapsed= 0:01:59.863166\n",
      "Epoch: 0186 cost= 0.000268763 Val auc= 0.951148 Time elapsed= 0:02:00.462726\n",
      "Epoch: 0187 cost= 0.000605727 Val auc= 0.951212 Time elapsed= 0:02:01.074391\n",
      "Epoch: 0188 cost= 0.000728947 Val auc= 0.951217 Time elapsed= 0:02:01.685012\n",
      "Epoch: 0189 cost= 0.000341934 Val auc= 0.951268 Time elapsed= 0:02:02.302622\n",
      "Epoch: 0190 cost= 0.032698169 Val auc= 0.951273 Time elapsed= 0:02:02.945332\n",
      "Epoch: 0191 cost= 0.000183769 Val auc= 0.951320 Time elapsed= 0:02:03.600073\n",
      "Epoch: 0192 cost= 0.001321183 Val auc= 0.951365 Time elapsed= 0:02:04.251805\n",
      "Epoch: 0193 cost= 0.000516678 Val auc= 0.951399 Time elapsed= 0:02:04.982752\n",
      "Epoch: 0194 cost= 0.000485816 Val auc= 0.951235 Time elapsed= 0:02:05.616470\n",
      "Epoch: 0195 cost= 0.000261687 Val auc= 0.951260 Time elapsed= 0:02:06.228061\n",
      "Epoch: 0196 cost= 0.000316458 Val auc= 0.951114 Time elapsed= 0:02:06.826689\n",
      "Epoch: 0197 cost= 0.000738391 Val auc= 0.951202 Time elapsed= 0:02:07.442293\n",
      "Epoch: 0198 cost= 0.000353829 Val auc= 0.951267 Time elapsed= 0:02:08.052914\n",
      "Epoch: 0199 cost= 0.000289169 Val auc= 0.951185 Time elapsed= 0:02:08.652511\n",
      "Epoch: 0200 cost= 0.001263586 Val auc= 0.951238 Time elapsed= 0:02:09.258121\n",
      "Optimization Finished!\n",
      "Model saved in file: C:\\Users\\weimin\\Desktop\\Fraud\\temp_saved_model_FCNNets_raw.ckpt\n"
     ]
    }
   ],
   "source": [
    "# PREPARE DATA\n",
    "VAL_PERC = 0.2\n",
    "all_y_bin = np.zeros((df.shape[0], 2))\n",
    "all_y_bin[range(df.shape[0]), df['Class'].values] = 1\n",
    "\n",
    "train_enc_x = train_x[:int(train_x.shape[0] * (1-VAL_PERC))]\n",
    "train_enc_y = all_y_bin[:int(train_x.shape[0] * (1-VAL_PERC))]\n",
    "\n",
    "val_enc_x = train_x[int(train_encoding.shape[0] *  (1-VAL_PERC)):]\n",
    "val_enc_y = all_y_bin[int(train_encoding.shape[0] * (1-VAL_PERC)):train_x.shape[0]]\n",
    "\n",
    "test_enc_y = all_y_bin[train_x.shape[0]:]\n",
    "\n",
    "print(\"Num of data for train, val and test are: \\n{}, \\n{}, \\n{}\".format(train_enc_x.shape[0], val_enc_x.shape[0], \\\n",
    "                                                                        test_encoding.shape[0]))\n",
    "# TRAIN STARTS\n",
    "save_model = os.path.join(data_dir, 'temp_saved_model_FCNNets_raw.ckpt')\n",
    "saver = tf.train.Saver()\n",
    "\n",
    "# Initializing the variables\n",
    "init = tf.global_variables_initializer()\n",
    "\n",
    "with tf.Session() as sess:\n",
    "    now = datetime.now()\n",
    "    sess.run(init)\n",
    "    total_batch = int(train_enc_x.shape[0]/batch_size)\n",
    "    # Training cycle\n",
    "    for epoch in range(n_epochs):\n",
    "        # Loop over all batches\n",
    "        for i in range(total_batch):\n",
    "            batch_idx = np.random.choice(train_enc_x.shape[0], batch_size)\n",
    "            batch_xs = train_enc_x[batch_idx]\n",
    "            batch_ys = train_enc_y[batch_idx]\n",
    "            # Run optimization op (backprop) and cost op (to get loss value)\n",
    "            _, c = sess.run([optimizer, cross_entropy], feed_dict={X: batch_xs, y_: batch_ys})\n",
    "            \n",
    "        # Display logs per epoch step\n",
    "        if epoch % display_step == 0:\n",
    "            val_probs = sess.run(pred_probs, feed_dict={X: val_enc_x})\n",
    "            print(\"Epoch:\", '%04d' % (epoch+1),\n",
    "                  \"cost=\", \"{:.9f}\".format(c), \n",
    "                  \"Val auc=\", \"{:.6f}\".format(auc(val_enc_y[:, 1], val_probs[:, 1])), \n",
    "                  \"Time elapsed=\", \"{}\".format(datetime.now() - now))\n",
    "\n",
    "    print(\"Optimization Finished!\")\n",
    "    \n",
    "    save_path = saver.save(sess, save_model)\n",
    "    print(\"Model saved in file: %s\" % save_path)\n",
    "    "
   ]
  },
  {
   "cell_type": "markdown",
   "metadata": {},
   "source": [
    "### 3) Predict on test data"
   ]
  },
  {
   "cell_type": "code",
   "execution_count": 47,
   "metadata": {
    "collapsed": false
   },
   "outputs": [
    {
     "name": "stdout",
     "output_type": "stream",
     "text": [
      "INFO:tensorflow:Restoring parameters from C:\\Users\\weimin\\Desktop\\Fraud\\temp_saved_model_FCNNets_raw.ckpt\n",
      "Test auc score: 0.9480815965884679\n"
     ]
    }
   ],
   "source": [
    "save_model = os.path.join(data_dir, 'temp_saved_model_FCNNets_raw.ckpt')\n",
    "saver = tf.train.Saver()\n",
    "# Initializing the variables\n",
    "init = tf.global_variables_initializer()\n",
    "\n",
    "with tf.Session() as sess:\n",
    "    now = datetime.now()\n",
    "    \n",
    "    saver.restore(sess, save_model)\n",
    "    \n",
    "    test_probs = sess.run(pred_probs, feed_dict={X: test_x})\n",
    "    \n",
    "    print(\"Test auc score: {}\".format(auc(test_enc_y[:, 1], test_probs[:, 1])))"
   ]
  },
  {
   "cell_type": "code",
   "execution_count": null,
   "metadata": {
    "collapsed": true
   },
   "outputs": [],
   "source": []
  },
  {
   "cell_type": "code",
   "execution_count": null,
   "metadata": {
    "collapsed": true
   },
   "outputs": [],
   "source": []
  },
  {
   "cell_type": "code",
   "execution_count": null,
   "metadata": {
    "collapsed": true
   },
   "outputs": [],
   "source": []
  },
  {
   "cell_type": "code",
   "execution_count": null,
   "metadata": {
    "collapsed": true
   },
   "outputs": [],
   "source": []
  }
 ],
 "metadata": {
  "kernelspec": {
   "display_name": "Python 2",
   "language": "python",
   "name": "python2"
  },
  "language_info": {
   "codemirror_mode": {
    "name": "ipython",
    "version": 2
   },
   "file_extension": ".py",
   "mimetype": "text/x-python",
   "name": "python",
   "nbconvert_exporter": "python",
   "pygments_lexer": "ipython2",
   "version": "2.7.12"
  }
 },
 "nbformat": 4,
 "nbformat_minor": 2
}
